{
 "cells": [
  {
   "cell_type": "code",
   "execution_count": 59,
   "id": "50dd2bf4",
   "metadata": {},
   "outputs": [],
   "source": [
    "def str_to_int(item):\n",
    "    \"\"\"\n",
    "    Assigns our string item an integer value\n",
    "            \n",
    "    Parameters:\n",
    "    ------------\n",
    "    - item: str\n",
    "        an item we need to find integer value of\n",
    "            \n",
    "    Returns:\n",
    "    -----------\n",
    "    - total_sum: int\n",
    "         integer value that correponds to our value\n",
    "    \"\"\"\n",
    "    total_sum = 0\n",
    "    multiplier = 1          #keeping track of the current multiplier\n",
    "    for i in range(len(item)-1, -1, -1):\n",
    "        total_sum += multiplier * ord(item[i])   #summing up all the products\n",
    "        multiplier *= 151\n",
    "    return total_sum"
   ]
  },
  {
   "cell_type": "code",
   "execution_count": 60,
   "id": "a4a86cb5",
   "metadata": {},
   "outputs": [],
   "source": [
    "import math\n",
    "primes = [101, 103, 107, 109, 113, 127, 131, 137, 139, 149]\n",
    "class CountingBloomFilter():\n",
    "    \"\"\"\n",
    "    A class that implements the counting bloom filter\n",
    "    that has following attributes and methods:\n",
    "    \n",
    "    Attributes\n",
    "    ------------\n",
    "    - fpr: float\n",
    "        false-positive rate of our filter\n",
    "    - num_item: int\n",
    "        number of items that are planned to be stored in our filter\n",
    "    - memory_size: int\n",
    "        length of the bit array of our filter\n",
    "    - bit_array: lst\n",
    "        bit array that represents a random distribution\n",
    "    - num_hashfn: int\n",
    "        number of hash functions used in our filter\n",
    "    - self.primes: lst\n",
    "        prime numbers that will be used to create hash functions\n",
    "    \n",
    "    Methods\n",
    "    ------------\n",
    "    - hash_cbf: produces a list of the hash values\n",
    "    - search: queries the membership of an element\n",
    "    - insert: inserts a string to the filter\n",
    "    - delete: removes a string from the filter\n",
    "    \"\"\"\n",
    "    \n",
    "    def __init__(self, fpr, num_item):\n",
    "        \"\"\"\n",
    "        initializes attributes of the CountingBloomFilter\n",
    "        \"\"\"\n",
    "        self.fpr = fpr\n",
    "        self.num_item = num_item\n",
    "        #using formula to the memory size the most optimal\n",
    "        self.memory_size = (-1) * round (((self.num_item) * math.log(fpr)) / (math.log(2) ** 2))\n",
    "        #creating a bit array\n",
    "        self.bit_array = [0] * self.memory_size\n",
    "        #using formula to make the most optimal number of hash functions\n",
    "        self.num_hashfn = round((self.memory_size / self.num_item) * math.log(2))\n",
    "        #making sure that the number of hash functions lies between 1 and 10\n",
    "        self.num_hashfn = min(10, max(self.num_hashfn, 1)) \n",
    "        #setting prime numbers for our cbf\n",
    "        self.primes = primes[:self.num_hashfn]\n",
    "        \n",
    "    def hash_cbf(self, item, prev_hash = None):\n",
    "        \"\"\"\n",
    "        Hashes a certain element with all of the hash functions in cbf\n",
    "        \n",
    "        Parameters:\n",
    "        -------------\n",
    "        - item: str\n",
    "            a particular item that needs to get hashed\n",
    "        - prev_hash:\n",
    "            an optional parameter that would serve as a memoisation of previous item for rolling hash\n",
    "        \n",
    "        Returns:\n",
    "        ------------\n",
    "        - keys: lst\n",
    "            list of the keys of the bit array that were produced by our hash functions\n",
    "        \"\"\"\n",
    "        \n",
    "        def str_to_int(item):\n",
    "            \"\"\"\n",
    "            Assigns our string item an integer value\n",
    "            \n",
    "            Parameters:\n",
    "            ------------\n",
    "            - item: str\n",
    "                an item we need to find integer value of\n",
    "            \n",
    "            Returns:\n",
    "            -----------\n",
    "            - total_sum: int\n",
    "                integer value that correponds to our value\n",
    "            \"\"\"\n",
    "            total_sum = 0\n",
    "            multiplier = 1          #keeping track of the current multiplier\n",
    "            for i in range(len(item)-1, -1, -1):\n",
    "                total_sum += multiplier * ord(item[i])   #summing up all the products\n",
    "                multiplier *= 151\n",
    "            return total_sum\n",
    "        \n",
    "        keys = []\n",
    "        if not prev_hash:     #if it is the first element in the text or we don't use rolling hashing\n",
    "            for prime in self.primes:  #calculating each of the hash function's value\n",
    "                multiplier = 1\n",
    "                hash_value = 0\n",
    "                for i in range(len(item)-1, -1, -1):\n",
    "                    #adding new element\n",
    "                    hash_value += (multiplier * str_to_int(item[i])) % self.memory_size \n",
    "                    hash_value %= self.memory_size\n",
    "                    multiplier *= prime    #keeping track of the current multiplier\n",
    "                if hash_value < 0:         #making sure our hash value is in the right range\n",
    "                    hash_value += self.memory_size\n",
    "                keys.append(hash_value)\n",
    "        else:\n",
    "            for i in range(len(self.primes)):\n",
    "                #accessing current hash function and stored value\n",
    "                prime = self.primes[i]\n",
    "                current_hash = prev_hash[i]\n",
    "                #adding new element at the end\n",
    "                add_new = (current_hash * prime + str_to_int(item[-1])) % self.memory_size\n",
    "                #removing old element from the beggining\n",
    "                remove_old = (add_new - str_to_int(item[0]) * ((prime ** (len(item) - 1)) % self.memory_size)) % self.memory_size\n",
    "                if remove_old < 0:  #making sure our element is in the correct range\n",
    "                    remove_old += self.memory_size\n",
    "                keys.append(remove_old)\n",
    "        return keys\n",
    "    \n",
    "    def search(self, item, prev_hash = None):\n",
    "        \"\"\"\n",
    "        Searches whether an element is in CBF or not\n",
    "        \n",
    "        Parameters:\n",
    "        -------------\n",
    "        - item: str\n",
    "            a particular item that needs to be \n",
    "        - prev_hash:\n",
    "            an optional parameter that would serve as a memoisation of previous item for rolling hash\n",
    "        \n",
    "        Returns:\n",
    "        ------------\n",
    "        - True/False: bool\n",
    "            boolean that tell us whether an element is in the set\n",
    "        - keys: lst\n",
    "            list of the keys of the bit array that were produced by our hash functions for this item\n",
    "        \"\"\"\n",
    "        keys = self.hash_cbf(item, prev_hash)\n",
    "        for key in keys:\n",
    "            if self.bit_array[key] == 0:\n",
    "                return False, keys\n",
    "        return (True, keys)\n",
    "\n",
    "    def insert(self, item, prev_hash=None):\n",
    "        \"\"\"\n",
    "        Inserts an item to the set\n",
    "        \n",
    "        Parameters:\n",
    "        -------------\n",
    "        - item: str\n",
    "            a particular item that needs to be inserted\n",
    "        - prev_hash:\n",
    "            an optional parameter that would serve as a memoisation of previous item for rolling hash\n",
    "        \n",
    "        Returns:\n",
    "        ------------\n",
    "        - keys: lst\n",
    "            list of the keys of the bit array that were produced by our hash functions for this item\n",
    "        \"\"\"\n",
    "        keys = self.hash_cbf(item, prev_hash)\n",
    "        for key in keys:\n",
    "            self.bit_array[key] += 1\n",
    "        return keys\n",
    "\n",
    "    def delete(self, item):\n",
    "        \"\"\"\n",
    "        Deletes a particular item from the set\n",
    "        \n",
    "        Parameters:\n",
    "        -------------\n",
    "        - item: str\n",
    "            a particular item that needs to be deleted\n",
    "        \n",
    "        Returns:\n",
    "        ------------\n",
    "        None\n",
    "        \"\"\"\n",
    "        try:\n",
    "            assert(self.search(item)[0] == True)\n",
    "            for key in self.hash_cbf(item):\n",
    "                self.bit_array[key] -= 1\n",
    "        except:\n",
    "            print(f\"There is no {item} item in our Counting Bloom Filter!\")"
   ]
  },
  {
   "cell_type": "code",
   "execution_count": 61,
   "id": "d1e786d9",
   "metadata": {},
   "outputs": [],
   "source": [
    "def testing(fpr, num_item):\n",
    "    \"\"\"\n",
    "    Prints out number of hash functions and size of the bit array based on the false-positive rate and number of items\n",
    "        \n",
    "    Parameters:\n",
    "    -------------\n",
    "    - fpr: float\n",
    "        a false-positive rate of our CountingBloomFilter\n",
    "    - num_item: int\n",
    "        Number of the items that will be stored in our CountingBloomFilter\n",
    "        \n",
    "    Returns:\n",
    "    ------------\n",
    "    None\n",
    "    \"\"\"\n",
    "    cbf = CountingBloomFilter(fpr = fpr, num_item = num_item)\n",
    "    print(f\"For the false-positive rate of {fpr} and number of items of {num_item} we will have the following parameters:\")\n",
    "    print(f\"Number of hash functions is {cbf.num_hashfn}\")\n",
    "    print(f\"Size of the bit array is {cbf.memory_size}\")"
   ]
  },
  {
   "cell_type": "code",
   "execution_count": 62,
   "id": "eea52a8f",
   "metadata": {},
   "outputs": [
    {
     "name": "stdout",
     "output_type": "stream",
     "text": [
      "For the false-positive rate of 0.05 and number of items of 10 we will have the following parameters:\n",
      "Number of hash functions is 4\n",
      "Size of the bit array is 62\n"
     ]
    }
   ],
   "source": [
    "testing(fpr = 0.05, num_item = 10)"
   ]
  },
  {
   "cell_type": "code",
   "execution_count": 63,
   "id": "e24a6ada",
   "metadata": {},
   "outputs": [
    {
     "name": "stdout",
     "output_type": "stream",
     "text": [
      "For the false-positive rate of 0.001 and number of items of 10000 we will have the following parameters:\n",
      "Number of hash functions is 10\n",
      "Size of the bit array is 143776\n"
     ]
    }
   ],
   "source": [
    "testing(fpr = 0.001, num_item = 10000)"
   ]
  },
  {
   "cell_type": "code",
   "execution_count": 64,
   "id": "c2e0c47a",
   "metadata": {},
   "outputs": [
    {
     "name": "stdout",
     "output_type": "stream",
     "text": [
      "For the false-positive rate of 0.5 and number of items of 1 we will have the following parameters:\n",
      "Number of hash functions is 1\n",
      "Size of the bit array is 1\n"
     ]
    }
   ],
   "source": [
    "testing(fpr = 0.5, num_item = 1)"
   ]
  },
  {
   "cell_type": "code",
   "execution_count": 65,
   "id": "fad4669d",
   "metadata": {},
   "outputs": [
    {
     "name": "stdout",
     "output_type": "stream",
     "text": [
      "There is no ['M24'] item in our Counting Bloom Filter!\n",
      "There is no ['M24', 'M25', 'M26'] item in our Counting Bloom Filter!\n"
     ]
    }
   ],
   "source": [
    "cbf = CountingBloomFilter(fpr = 0.02, num_item = 3)\n",
    "cbf.insert([\"apple\", \"banana\", \"pear\"])\n",
    "cbf.insert([\"football\", \"baseball\", \"basketball\"])\n",
    "cbf.insert([\"M24\", \"M25\", \"M26\"])\n",
    "assert(cbf.search([\"apple\"])[0] == False)\n",
    "assert(cbf.search([\"baseball\", \"football\"])[0] == False)\n",
    "assert(cbf.search([\"football\", \"baseball\", \"basketball\"])[0] == True)\n",
    "assert(cbf.search([\"apple\", \"pear\", \"banana\"])[0] == False)\n",
    "assert(cbf.search([\"apple\", \"banana\", \"pear\"])[0] == True)\n",
    "cbf.delete([\"M24\"])\n",
    "cbf.delete([\"M24\", \"M25\", \"M26\"])\n",
    "cbf.delete([\"M24\", \"M25\", \"M26\"])"
   ]
  },
  {
   "cell_type": "code",
   "execution_count": 66,
   "id": "042d7152",
   "metadata": {},
   "outputs": [],
   "source": [
    "cbf = CountingBloomFilter(fpr = 0.01, num_item = 100)\n",
    "assert(cbf.hash_cbf([\"CS110\", \"CS111\", \"CS113\", \"CS114\"]) == cbf.hash_cbf([\"CS110\", \"CS111\", \"CS113\", \"CS114\"]))\n",
    "assert(cbf.hash_cbf([\"r\"] * 1000) == cbf.hash_cbf([\"r\"] * 1000))\n",
    "assert(cbf.hash_cbf([]) == cbf.hash_cbf([]))"
   ]
  },
  {
   "cell_type": "code",
   "execution_count": 67,
   "id": "b259c55a",
   "metadata": {},
   "outputs": [],
   "source": [
    "url_version_1 = 'https://bit.ly/39MurYb'\n",
    "url_version_2 = 'https://bit.ly/3we1QCp'\n",
    "url_version_3 = 'https://bit.ly/3vUecRn'\n",
    "from requests import get\n",
    "def get_txt_into_list_of_words(url):\n",
    "    '''\n",
    "    Cleans the text data\n",
    "    \n",
    "    Input\n",
    "    ----------\n",
    "    url : string\n",
    "        The URL for the txt file.\n",
    "        \n",
    "    Returns\n",
    "    -------\n",
    "    data_just_words_lower_case: list\n",
    "        List of \"cleaned-up\" words sorted by the order they appear in the original file.\n",
    "    '''\n",
    "    bad_chars = [';', ',', '.', '?', '!', '_', '[', ']', '(', ')', '*']\n",
    "    data = get(url).text\n",
    "    data = ''.join(c for c in data if c not in bad_chars)\n",
    "    data_without_newlines = ''.join(c if (c not in ['\\n', '\\r', '\\t']) else \" \" for c in data)\n",
    "    data_just_words = [word for word in data_without_newlines.split(\" \") if word != \"\"]\n",
    "    data_just_words_lower_case = [word.lower() for word in data_just_words]\n",
    "    return data_just_words_lower_case"
   ]
  },
  {
   "cell_type": "code",
   "execution_count": 68,
   "id": "bbbd41fb",
   "metadata": {},
   "outputs": [],
   "source": [
    "import random\n",
    "import matplotlib.pyplot as plt\n",
    "def uniform_experiment(num_of_trials, url):\n",
    "    '''\n",
    "    Conducts an experiment to verify whether there hash functions satisfy uniform distribution\n",
    "    \n",
    "    Input\n",
    "    ----------\n",
    "    num_of_trials: int\n",
    "        Number of shuffles we will conduct in our experiment\n",
    "    url: string\n",
    "        The URL for the txt file.\n",
    "        \n",
    "    Returns\n",
    "    -------\n",
    "    None\n",
    "    '''\n",
    "    \n",
    "    text_list = get_txt_into_list_of_words(url)\n",
    "    cbf = CountingBloomFilter(0.001, 10)\n",
    "    for n in range(num_of_trials):\n",
    "        random.shuffle(text_list)\n",
    "        prev_hash = None\n",
    "        for i in range(len(text_list)-4):\n",
    "            prev_hash = cbf.insert(text_list[i:i+5], prev_hash)\n",
    "    plt.plot(list(range(cbf.memory_size)), cbf.bit_array)\n",
    "    plt.xlabel(\"Index of the bit array\")\n",
    "    plt.ylabel(\"Value at the counter\")\n",
    "    plt.ylim(0, 1.5*max(cbf.bit_array))"
   ]
  },
  {
   "cell_type": "code",
   "execution_count": 69,
   "id": "f34c6131",
   "metadata": {},
   "outputs": [
    {
     "data": {
      "image/png": "[encoded data removed]",
      "text/plain": [
       "<Figure size 432x288 with 1 Axes>"
      ]
     },
     "metadata": {
      "needs_background": "light"
     },
     "output_type": "display_data"
    }
   ],
   "source": [
    "uniform_experiment(1, 'https://bit.ly/39MurYb')"
   ]
  },
  {
   "cell_type": "code",
   "execution_count": 70,
   "id": "bb79d74e",
   "metadata": {},
   "outputs": [
    {
     "data": {
      "image/png": "[encoded data removed]",
      "text/plain": [
       "<Figure size 432x288 with 1 Axes>"
      ]
     },
     "metadata": {
      "needs_background": "light"
     },
     "output_type": "display_data"
    }
   ],
   "source": [
    "uniform_experiment(5, 'https://bit.ly/3we1QCp')"
   ]
  },
  {
   "cell_type": "code",
   "execution_count": 71,
   "id": "80360622",
   "metadata": {},
   "outputs": [
    {
     "data": {
      "image/png": "[encoded data removed]",
      "text/plain": [
       "<Figure size 432x288 with 1 Axes>"
      ]
     },
     "metadata": {
      "needs_background": "light"
     },
     "output_type": "display_data"
    }
   ],
   "source": [
    "uniform_experiment(10, 'https://bit.ly/3vUecRn')"
   ]
  },
  {
   "cell_type": "code",
   "execution_count": 107,
   "id": "6bc63083",
   "metadata": {},
   "outputs": [],
   "source": [
    "def plagiarism(text_1, text_2, window_size, fpr):\n",
    "    '''\n",
    "    Defines the level of plagiarism between two texts\n",
    "    \n",
    "    Input\n",
    "    ----------\n",
    "    text_1, text_2: lst\n",
    "        two texts we need to check level of plagiarism between\n",
    "    window_size: int\n",
    "        number of words in the phrase\n",
    "    fpr: float\n",
    "        false-positive rate we wish our CBF to have\n",
    "        \n",
    "    Returns\n",
    "    -------\n",
    "    None\n",
    "    '''\n",
    "    cbf = CountingBloomFilter(fpr = fpr, num_item = len(text_1) - window_size + 1)\n",
    "    prev_hash = None \n",
    "    for i in range(len(text_1) - window_size + 1):           #adding elements to the CBF\n",
    "        prev_hash = cbf.insert(text_1[i:i+window_size], prev_hash)\n",
    "    possible_plag = 0\n",
    "    actual_plag = 0\n",
    "    prev_hash = None\n",
    "    for i in range(len(text_2) - window_size + 1):           #searching for repetitions\n",
    "        contains, prev_hash = cbf.search(text_2[i:i+window_size], prev_hash)\n",
    "        if contains:                  #in case we found a possible match, we verify whether it is plagiarims or a False Positive\n",
    "            possible_plag += 1\n",
    "            for j in range(len(text_1) - window_size + 1):\n",
    "                if text_1[j] == text_2[i]:\n",
    "                    counter1 = j+1\n",
    "                    counter2 = i+1\n",
    "                    while counter1 - j < window_size and counter1 < cbf.memory_size and text_1[counter1] == text_2[counter2]:\n",
    "                        counter1 += 1\n",
    "                        counter2 += 1\n",
    "                    if counter1 - j == window_size:\n",
    "                        actual_plag += 1\n",
    "                else:\n",
    "                    continue\n",
    "    print(f\"The level of plagiarism with possible False Positives is {(possible_plag/(len(text_2)-window_size+1))*100}%\")\n",
    "    print(f\"The actual level of plagiarism is {(actual_plag/(len(text_2)-window_size+1))*100}%\")  "
   ]
  },
  {
   "cell_type": "code",
   "execution_count": 108,
   "id": "52d3a72e",
   "metadata": {},
   "outputs": [],
   "source": [
    "url_version_1 = 'https://bit.ly/39MurYb'\n",
    "url_version_2 = 'https://bit.ly/3we1QCp'\n",
    "url_version_3 = 'https://bit.ly/3vUecRn'\n",
    "text_1 = get_txt_into_list_of_words(url_version_1)\n",
    "text_2 = get_txt_into_list_of_words(url_version_2)\n",
    "text_3 = get_txt_into_list_of_words(url_version_3)"
   ]
  },
  {
   "cell_type": "code",
   "execution_count": 109,
   "id": "f2a1211d",
   "metadata": {},
   "outputs": [
    {
     "name": "stdout",
     "output_type": "stream",
     "text": [
      "The level of plagiarism with possible False Positives is 0.8868393047179851%\n",
      "The actual level of plagiarism is 0.0%\n"
     ]
    }
   ],
   "source": [
    "plagiarism(text_1, text_2, 5, 0.01)"
   ]
  },
  {
   "cell_type": "code",
   "execution_count": 110,
   "id": "85bd02d0",
   "metadata": {},
   "outputs": [
    {
     "name": "stdout",
     "output_type": "stream",
     "text": [
      "The level of plagiarism with possible False Positives is 4.895352962043278%\n",
      "The actual level of plagiarism is 0.0%\n"
     ]
    }
   ],
   "source": [
    "plagiarism(text_1, text_2, 5, 0.05)"
   ]
  },
  {
   "cell_type": "code",
   "execution_count": 111,
   "id": "2c0dbfab",
   "metadata": {},
   "outputs": [
    {
     "name": "stdout",
     "output_type": "stream",
     "text": [
      "The level of plagiarism with possible False Positives is 10.370107603168972%\n",
      "The actual level of plagiarism is 0.0%\n"
     ]
    }
   ],
   "source": [
    "plagiarism(text_1, text_2, 5, 0.1)"
   ]
  },
  {
   "cell_type": "code",
   "execution_count": 112,
   "id": "da4e8a52",
   "metadata": {},
   "outputs": [
    {
     "name": "stdout",
     "output_type": "stream",
     "text": [
      "The level of plagiarism with possible False Positives is 0.9122807017543859%\n",
      "The actual level of plagiarism is 0.0%\n"
     ]
    }
   ],
   "source": [
    "plagiarism(text_1, text_3, 5, 0.01)"
   ]
  },
  {
   "cell_type": "code",
   "execution_count": 113,
   "id": "bcf359c8",
   "metadata": {},
   "outputs": [
    {
     "name": "stdout",
     "output_type": "stream",
     "text": [
      "The level of plagiarism with possible False Positives is 4.830409356725146%\n",
      "The actual level of plagiarism is 0.0%\n"
     ]
    }
   ],
   "source": [
    "plagiarism(text_1, text_3, 5, 0.05)"
   ]
  },
  {
   "cell_type": "code",
   "execution_count": 114,
   "id": "52527a5b",
   "metadata": {},
   "outputs": [
    {
     "name": "stdout",
     "output_type": "stream",
     "text": [
      "The level of plagiarism with possible False Positives is 9.836257309941521%\n",
      "The actual level of plagiarism is 0.0%\n"
     ]
    }
   ],
   "source": [
    "plagiarism(text_1, text_3, 5, 0.1)"
   ]
  },
  {
   "cell_type": "code",
   "execution_count": 115,
   "id": "6cbcc735",
   "metadata": {},
   "outputs": [
    {
     "name": "stdout",
     "output_type": "stream",
     "text": [
      "The level of plagiarism with possible False Positives is 1.0292397660818713%\n",
      "The actual level of plagiarism is 0.0%\n"
     ]
    }
   ],
   "source": [
    "plagiarism(text_2, text_3, 5, 0.01)"
   ]
  }
 ],
 "metadata": {
  "kernelspec": {
   "display_name": "Python 3 (ipykernel)",
   "language": "python",
   "name": "python3"
  },
  "language_info": {
   "codemirror_mode": {
    "name": "ipython",
    "version": 3
   },
   "file_extension": ".py",
   "mimetype": "text/x-python",
   "name": "python",
   "nbconvert_exporter": "python",
   "pygments_lexer": "ipython3",
   "version": "3.9.7"
  }
 },
 "nbformat": 4,
 "nbformat_minor": 5
}
